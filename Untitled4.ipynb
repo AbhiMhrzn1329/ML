{
  "nbformat": 4,
  "nbformat_minor": 0,
  "metadata": {
    "colab": {
      "provenance": [],
      "authorship_tag": "ABX9TyNAgX0hlkukjLyxW91nhvEB",
      "include_colab_link": true
    },
    "kernelspec": {
      "name": "python3",
      "display_name": "Python 3"
    },
    "language_info": {
      "name": "python"
    }
  },
  "cells": [
    {
      "cell_type": "markdown",
      "metadata": {
        "id": "view-in-github",
        "colab_type": "text"
      },
      "source": [
        "<a href=\"https://colab.research.google.com/github/AbhiMhrzn1329/ML/blob/main/Untitled4.ipynb\" target=\"_parent\"><img src=\"https://colab.research.google.com/assets/colab-badge.svg\" alt=\"Open In Colab\"/></a>"
      ]
    },
    {
      "cell_type": "code",
      "execution_count": 3,
      "metadata": {
        "colab": {
          "base_uri": "https://localhost:8080/"
        },
        "id": "X37FFtLEVW3k",
        "outputId": "548f0a9c-b438-4a18-c1b9-63e51bef0748"
      },
      "outputs": [
        {
          "output_type": "stream",
          "name": "stdout",
          "text": [
            "5.196152422706632\n"
          ]
        }
      ],
      "source": [
        "# Euclidean using math as mt\n",
        "import math as mt\n",
        "x = [1, 2, 3]\n",
        "y = [4, 5, 6]\n",
        "print(mt.dist(x, y))"
      ]
    },
    {
      "cell_type": "code",
      "source": [
        "# Euclidean using numpy as np\n",
        "import numpy as np\n",
        "x = np.array([1, 2, 3])\n",
        "y = np.array([4, 5, 6])\n",
        "sum=np.sum(np.square(x - y))\n",
        "print(np.sqrt(sum))"
      ],
      "metadata": {
        "colab": {
          "base_uri": "https://localhost:8080/"
        },
        "id": "iH3RmEJFWlWm",
        "outputId": "f7fa042d-16c7-49c0-e84b-602fa9f6c6eb"
      },
      "execution_count": 6,
      "outputs": [
        {
          "output_type": "stream",
          "name": "stdout",
          "text": [
            "5.196152422706632\n"
          ]
        }
      ]
    },
    {
      "cell_type": "code",
      "source": [
        "import numpy as np\n",
        "import numpy as np\n",
        "\n",
        "# Taking matrix dimensions from user\n",
        "rows = int(input(\"Enter number of rows: \"))\n",
        "cols = int(input(\"Enter number of columns: \"))\n",
        "\n",
        "# Taking matrix elements from user\n",
        "matrix = []\n",
        "print(\"Enter the matrix elements row-wise:\")\n",
        "\n",
        "for i in range(rows):\n",
        "    row = list(map(int, input().split()))  # Taking space-separated input for a row\n",
        "    matrix.append(row)\n",
        "\n",
        "# Converting list of lists to NumPy array\n",
        "matrix = np.array(matrix)\n",
        "\n",
        "print(\"\\nUser-defined matrix:\")\n",
        "print(matrix)\n"
      ],
      "metadata": {
        "colab": {
          "base_uri": "https://localhost:8080/"
        },
        "id": "h-aDMGGIX0qY",
        "outputId": "421d143d-9957-44c8-dbff-ba77914ba7fd"
      },
      "execution_count": 7,
      "outputs": [
        {
          "output_type": "stream",
          "name": "stdout",
          "text": [
            "Enter number of rows: 3\n",
            "Enter number of columns: 3\n",
            "Enter the matrix elements row-wise:\n",
            "2\n",
            "2\n",
            "5\n",
            "\n",
            "User-defined matrix:\n",
            "[[2]\n",
            " [2]\n",
            " [5]]\n"
          ]
        }
      ]
    },
    {
      "cell_type": "code",
      "source": [
        "import numpy as np\n",
        "\n",
        "# Function to take user input for a matrix\n",
        "def input_matrix(rows, cols):\n",
        "    matrix = []\n",
        "    print(f\"Enter elements for a {rows}x{cols} matrix row-wise:\")\n",
        "    for _ in range(rows):\n",
        "        row = list(map(int, input().split()))\n",
        "        matrix.append(row)\n",
        "    return np.array(matrix)\n",
        "\n",
        "# Taking matrix dimensions from user\n",
        "rows = int(input(\"Enter number of rows: \"))\n",
        "cols = int(input(\"Enter number of columns: \"))\n",
        "\n",
        "# Input two matrices\n",
        "print(\"\\nMatrix 1:\")\n",
        "matrix1 = input_matrix(rows, cols)\n",
        "\n",
        "print(\"\\nMatrix 2:\")\n",
        "matrix2 = input_matrix(rows, cols)\n",
        "\n",
        "# Display matrices\n",
        "print(\"\\nMatrix 1:\")\n",
        "print(matrix1)\n",
        "\n",
        "print(\"\\nMatrix 2:\")\n",
        "print(matrix2)\n"
      ],
      "metadata": {
        "id": "fhxhyGbtaPue"
      },
      "execution_count": null,
      "outputs": []
    },
    {
      "cell_type": "code",
      "source": [
        "5"
      ],
      "metadata": {
        "id": "u8sc7WYQbNdd"
      },
      "execution_count": null,
      "outputs": []
    }
  ]
}