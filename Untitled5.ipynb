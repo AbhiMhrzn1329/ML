{
  "nbformat": 4,
  "nbformat_minor": 0,
  "metadata": {
    "colab": {
      "provenance": [],
      "authorship_tag": "ABX9TyO7vatr6WQfbBTkmf2/mmDi",
      "include_colab_link": true
    },
    "kernelspec": {
      "name": "python3",
      "display_name": "Python 3"
    },
    "language_info": {
      "name": "python"
    }
  },
  "cells": [
    {
      "cell_type": "markdown",
      "metadata": {
        "id": "view-in-github",
        "colab_type": "text"
      },
      "source": [
        "<a href=\"https://colab.research.google.com/github/AbhiMhrzn1329/ML/blob/main/Untitled5.ipynb\" target=\"_parent\"><img src=\"https://colab.research.google.com/assets/colab-badge.svg\" alt=\"Open In Colab\"/></a>"
      ]
    },
    {
      "cell_type": "code",
      "source": [
        "pip install pycryptodome\n"
      ],
      "metadata": {
        "colab": {
          "base_uri": "https://localhost:8080/"
        },
        "id": "obOQ_wZp3zaB",
        "outputId": "24d87acb-b15f-4bf5-bf80-70f2583ef325"
      },
      "execution_count": 3,
      "outputs": [
        {
          "output_type": "stream",
          "name": "stdout",
          "text": [
            "Collecting pycryptodome\n",
            "  Downloading pycryptodome-3.21.0-cp36-abi3-manylinux_2_17_x86_64.manylinux2014_x86_64.whl.metadata (3.4 kB)\n",
            "Downloading pycryptodome-3.21.0-cp36-abi3-manylinux_2_17_x86_64.manylinux2014_x86_64.whl (2.3 MB)\n",
            "\u001b[?25l   \u001b[90m━━━━━━━━━━━━━━━━━━━━━━━━━━━━━━━━━━━━━━━━\u001b[0m \u001b[32m0.0/2.3 MB\u001b[0m \u001b[31m?\u001b[0m eta \u001b[36m-:--:--\u001b[0m\r\u001b[2K   \u001b[91m━━━━━━\u001b[0m\u001b[90m╺\u001b[0m\u001b[90m━━━━━━━━━━━━━━━━━━━━━━━━━━━━━━━━━\u001b[0m \u001b[32m0.4/2.3 MB\u001b[0m \u001b[31m10.7 MB/s\u001b[0m eta \u001b[36m0:00:01\u001b[0m\r\u001b[2K   \u001b[91m━━━━━━━━━━━━━━━━━━━━━━━━━━━━━━━━━━━━━━━\u001b[0m\u001b[91m╸\u001b[0m \u001b[32m2.3/2.3 MB\u001b[0m \u001b[31m40.2 MB/s\u001b[0m eta \u001b[36m0:00:01\u001b[0m\r\u001b[2K   \u001b[90m━━━━━━━━━━━━━━━━━━━━━━━━━━━━━━━━━━━━━━━━\u001b[0m \u001b[32m2.3/2.3 MB\u001b[0m \u001b[31m31.0 MB/s\u001b[0m eta \u001b[36m0:00:00\u001b[0m\n",
            "\u001b[?25hInstalling collected packages: pycryptodome\n",
            "Successfully installed pycryptodome-3.21.0\n"
          ]
        }
      ]
    },
    {
      "cell_type": "code",
      "execution_count": null,
      "metadata": {
        "colab": {
          "base_uri": "https://localhost:8080/"
        },
        "id": "cn7CX6hZ2vrA",
        "outputId": "1545f0fe-45ba-4616-b9fe-296dddb4f569"
      },
      "outputs": [
        {
          "output_type": "stream",
          "name": "stdout",
          "text": [
            "Generated key (hex): 2b3642fc91aa6d692ad71bc073a98e25\n"
          ]
        }
      ],
      "source": [
        "from Crypto.Cipher import AES\n",
        "from Crypto.Random import get_random_bytes\n",
        "\n",
        "def generate_key():\n",
        "    return get_random_bytes(16)\n",
        "\n",
        "def encrypt(plain_text, key):\n",
        "    cipher = AES.new(key, AES.MODE_GCM)\n",
        "    ciphertext, tag = cipher.encrypt_and_digest(plain_text.encode())\n",
        "    return cipher.nonce + tag + ciphertext\n",
        "\n",
        "def decrypt(encrypted_data, key):\n",
        "    nonce = encrypted_data[:16]\n",
        "    tag = encrypted_data[16:32]\n",
        "    ciphertext = encrypted_data[32:]\n",
        "    cipher = AES.new(key, AES.MODE_GCM, nonce=nonce)\n",
        "    return cipher.decrypt_and_verify(ciphertext, tag).decode()\n",
        "\n",
        "def main():\n",
        "    key = generate_key()\n",
        "    print(f\"Generated key (hex): {key.hex()}\")\n",
        "\n",
        "    plain_text = input(\"Enter text to encrypt: \")\n",
        "    encrypted_data = encrypt(plain_text, key)\n",
        "    print(f\"Encrypted Data (hex): {encrypted_data.hex()}\")\n",
        "\n",
        "    decrypted_text = decrypt(encrypted_data, key)\n",
        "    print(f\"Decrypted Text: {decrypted_text}\")\n",
        "\n",
        "if __name__ == \"__main__\":\n",
        "    main()\n"
      ]
    },
    {
      "cell_type": "code",
      "source": [],
      "metadata": {
        "id": "d4BxEjdb3Vix"
      },
      "execution_count": null,
      "outputs": []
    }
  ]
}